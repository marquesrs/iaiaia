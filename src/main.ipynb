total = lenmain_df

main_df = 'area_coberta', ascending=False
main_df['area_categoria'] = ''







# main_df.loc[    200:     'area_categoria'] = 'low'

# main_df[['area_categoria'
area_
= area_
