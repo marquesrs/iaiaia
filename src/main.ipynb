{
 "cells": [
  {
   "cell_type": "code",
   "execution_count": 1,
   "metadata": {},
   "outputs": [],
   "source": [
    "import pandas as pd\n",
    "import numpy as np\n",
    "import math"
   ]
  },
  {
   "cell_type": "code",
   "execution_count": 35,
   "metadata": {},
   "outputs": [],
   "source": [
    "ASSETS_DIR          = f\"./assets\"\n",
    "GDP_DATASET         = f\"{ASSETS_DIR}/PIB_por_ano.csv\"\n",
    "POPULATION_DATASET  = f\"{ASSETS_DIR}/estimativa_populacao-v2.csv\"\n",
    "SALARY_DATASET      = f\"{ASSETS_DIR}/massa_salarial_por_ano.csv\"\n",
    "UC_PER_YEAR_DATASET = f\"{ASSETS_DIR}/UCxAno.csv\"\n",
    "EMPLOYMENT_DATASET  = f\"{ASSETS_DIR}/total_de_empregados_por_ano.csv\"\n",
    "# TOTAL_EMPRESAS_DATASET_DIR = f\"{ASSETS_DIR}\""
   ]
  },
  {
   "cell_type": "code",
   "execution_count": 54,
   "metadata": {},
   "outputs": [],
   "source": [
    "gdp_df = pd.read_csv(GDP_DATASET)\n",
    "population_df = pd.read_csv(POPULATION_DATASET)\n",
    "salary_df = pd.read_csv(SALARY_DATASET)\n",
    "employee_df = pd.read_csv(EMPLOYMENT_DATASET)\n",
    "uc_df = pd.read_csv(UC_PER_YEAR_DATASET)\n",
    "\n"
   ]
  },
  {
   "cell_type": "code",
   "execution_count": 65,
   "metadata": {},
   "outputs": [
    {
     "data": {
      "text/html": [
       "<div>\n",
       "<style scoped>\n",
       "    .dataframe tbody tr th:only-of-type {\n",
       "        vertical-align: middle;\n",
       "    }\n",
       "\n",
       "    .dataframe tbody tr th {\n",
       "        vertical-align: top;\n",
       "    }\n",
       "\n",
       "    .dataframe thead th {\n",
       "        text-align: right;\n",
       "    }\n",
       "</style>\n",
       "<table border=\"1\" class=\"dataframe\">\n",
       "  <thead>\n",
       "    <tr style=\"text-align: right;\">\n",
       "      <th></th>\n",
       "      <th>UCs</th>\n",
       "      <th>Empregados</th>\n",
       "      <th>Populacao</th>\n",
       "      <th>Massa Salarial</th>\n",
       "    </tr>\n",
       "  </thead>\n",
       "  <tbody>\n",
       "    <tr>\n",
       "      <th>0</th>\n",
       "      <td>2201</td>\n",
       "      <td>1814187</td>\n",
       "      <td>7075494.0</td>\n",
       "      <td>4.132690e+09</td>\n",
       "    </tr>\n",
       "    <tr>\n",
       "      <th>1</th>\n",
       "      <td>2376</td>\n",
       "      <td>1875109</td>\n",
       "      <td>17677137.0</td>\n",
       "      <td>4.301976e+09</td>\n",
       "    </tr>\n",
       "    <tr>\n",
       "      <th>2</th>\n",
       "      <td>2468</td>\n",
       "      <td>1912155</td>\n",
       "      <td>17830257.0</td>\n",
       "      <td>4.416118e+09</td>\n",
       "    </tr>\n",
       "    <tr>\n",
       "      <th>3</th>\n",
       "      <td>2546</td>\n",
       "      <td>2060145</td>\n",
       "      <td>7338473.0</td>\n",
       "      <td>5.379025e+09</td>\n",
       "    </tr>\n",
       "  </tbody>\n",
       "</table>\n",
       "</div>"
      ],
      "text/plain": [
       "    UCs  Empregados   Populacao  Massa Salarial\n",
       "0  2201     1814187   7075494.0    4.132690e+09\n",
       "1  2376     1875109  17677137.0    4.301976e+09\n",
       "2  2468     1912155  17830257.0    4.416118e+09\n",
       "3  2546     2060145   7338473.0    5.379025e+09"
      ]
     },
     "execution_count": 65,
     "metadata": {},
     "output_type": "execute_result"
    }
   ],
   "source": [
    "relation_df = pd.DataFrame()\n",
    "\n",
    "employees = []\n",
    "salaries = []\n",
    "population = []\n",
    "uc_count = []\n",
    "\n",
    "for year, count in zip(uc_df[\"Ano\"], uc_df['Quantidade de UC']):\n",
    "    try:\n",
    "        key = str(year)\n",
    "\n",
    "        sal = salary_df[key][0]\n",
    "        pop = population_df[key][0]\n",
    "        empl = employee_df[key][0]\n",
    "\n",
    "    except KeyError:\n",
    "        continue\n",
    "\n",
    "    salaries.append(sal)\n",
    "    population.append(pop)\n",
    "    employees.append(empl)\n",
    "    uc_count.append(count)\n",
    "\n",
    "relation_df = pd.DataFrame.from_dict({\n",
    "    'UCs': uc_count,\n",
    "    'Empregados': employees,\n",
    "    'Populacao': population,\n",
    "    'Massa Salarial': salaries,\n",
    "})\n",
    "\n",
    "relation_df\n",
    "\n",
    "# for year, count in zip(uc_df[\"Ano\"], uc_df[\"Quantidade de UC\"]):\n",
    "#     try:\n",
    "#         key = str(year)\n",
    "#         print(year, count, , salary_df[key][0], population_df[key][0])\n",
    "#     except KeyError:\n",
    "#         continue\n",
    "# print(employees)"
   ]
  },
  {
   "cell_type": "code",
   "execution_count": null,
   "metadata": {},
   "outputs": [],
   "source": [
    "\n"
   ]
  }
 ],
 "metadata": {
  "kernelspec": {
   "display_name": "aiaia-uc",
   "language": "python",
   "name": "python3"
  },
  "language_info": {
   "codemirror_mode": {
    "name": "ipython",
    "version": 3
   },
   "file_extension": ".py",
   "mimetype": "text/x-python",
   "name": "python",
   "nbconvert_exporter": "python",
   "pygments_lexer": "ipython3",
   "version": "3.12.4"
  }
 },
 "nbformat": 4,
 "nbformat_minor": 2
}
