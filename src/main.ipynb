{
 "cells": [
  {
   "cell_type": "code",
   "execution_count": 2,
   "metadata": {},
   "outputs": [],
   "source": [
    "import pandas as pd\n",
    "import sqlite3\n",
    "import re\n",
    "import math\n",
    "import mlxtend as ml"
   ]
  },
  {
   "cell_type": "code",
   "execution_count": 4,
   "metadata": {},
   "outputs": [],
   "source": [
    "ASSETS_DIR = \"./assets\"\n",
    "PIB_DATASET = f\"{ASSETS_DIR}/PIB_por_ano.csv\"\n",
    "POPULACAO_DATASET = f\"{ASSETS_DIR}/estimativa_populacao.csv\"\n",
    "SALARIOS_DATASET = f\"{ASSETS_DIR}/massa_salarial_por_ano.csv\"\n",
    "EMPREGOS_DATASET = f\"{ASSETS_DIR}/?????\"\n",
    "TOTAL_EMPRESAS_DATASET = f\"{ASSETS_DIR}/????\""
   ]
  }
 ],
 "metadata": {
  "kernelspec": {
   "display_name": "Python 3 (ipykernel)",
   "language": "python",
   "name": "python3"
  },
  "language_info": {
   "codemirror_mode": {
    "name": "ipython",
    "version": 3
   },
   "file_extension": ".py",
   "mimetype": "text/x-python",
   "name": "python",
   "nbconvert_exporter": "python",
   "pygments_lexer": "ipython3",
   "version": "3.12.1"
  }
 },
 "nbformat": 4,
 "nbformat_minor": 2
}
