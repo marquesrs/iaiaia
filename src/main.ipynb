{
 "cells": [
  {
   "cell_type": "code",
   "execution_count": null,
   "metadata": {},
   "outputs": [],
   "source": [
    "# IMPORTS\n",
    "import pandas as pd\n",
    "import sqlite3\n",
    "import re\n",
    "import math"
   ]
  },
  {
   "cell_type": "code",
   "execution_count": null,
   "metadata": {},
   "outputs": [],
   "source": [
    "UC_DATASET_DIR             = f\"./assets\"\n",
    "PIB_DATASET_DIR            = f\"{ASSETS_DIR}/PIB_por_ano.csv\"\n",
    "POPULACAO_DATASET_DIR      = f\"{ASSETS_DIR}/estimativa_populacao.csv\"\n",
    "SALARIOS_DATASET_DIR       = f\"{ASSETS_DIR}/massa_salarial_por_ano.csv\"\n",
    "# EMPREGOS_DATASET_DIR       = f\"{ASSETS_DIR}\"\n",
    "# TOTAL_EMPRESAS_DATASET_DIR = f\"{ASSETS_DIR}\""
   ]
  }
 ],
 "metadata": {
  "kernelspec": {
   "display_name": "aiaia-uc",
   "language": "python",
   "name": "python3"
  },
  "language_info": {
   "name": "python",
   "version": "3.12.4"
  }
 },
 "nbformat": 4,
 "nbformat_minor": 2
}
