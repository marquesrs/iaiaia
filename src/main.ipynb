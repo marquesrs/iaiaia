{
 "cells": [
  {
   "cell_type": "code",
   "execution_count": null,
   "metadata": {},
   "outputs": [],
   "source": [
    "# IMPORTS\n",
    "import pandas as pd\n",
    "import sqlite3\n",
    "import re\n",
    "import math"
   ]
  },
  {
   "cell_type": "code",
   "execution_count": null,
   "metadata": {},
   "outputs": [],
   "source": [
    "UC_DATASET_DIR = \"/home/marques/Downloads/IA/aiaia-uc/src/assets\"\n",
    "PIB_DATASET_DIR = \"/home/marques/Downloads/IA/aiaia-uc/src/assets/PIB_por_ano.csv\"\n",
    "POPULACAO_DATASET_DIR = \"/home/marques/Downloads/IA/aiaia-uc/src/assets/estimativa_populacao.csv\"\n",
    "SALARIOS_DATASET_DIR = \"/home/marques/Downloads/IA/aiaia-uc/src/assets/massa_salarial_por_ano.csv\"\n",
    "EMPREGOS_DATASET_DIR = \"/home/marques/Downloads/IA/aiaia-uc/src/assets\"\n",
    "TOTAL_EMPRESAS_DATASET_DIR = \"/home/marques/Downloads/IA/aiaia-uc/src/assets\""
   ]
  }
 ],
 "metadata": {
  "kernelspec": {
   "display_name": "aiaia-uc",
   "language": "python",
   "name": "python3"
  },
  "language_info": {
   "name": "python",
   "version": "3.10.12"
  }
 },
 "nbformat": 4,
 "nbformat_minor": 2
}
